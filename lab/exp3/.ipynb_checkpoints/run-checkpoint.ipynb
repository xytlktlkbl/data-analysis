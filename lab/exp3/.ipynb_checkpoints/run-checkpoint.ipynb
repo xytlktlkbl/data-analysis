{
 "cells": [
  {
   "cell_type": "code",
   "execution_count": 4,
   "id": "909daf61-0ef1-4a53-b30c-7539b7dbcfac",
   "metadata": {},
   "outputs": [],
   "source": [
    "import pandas as pd"
   ]
  },
  {
   "cell_type": "markdown",
   "id": "d963e6d4-37cc-46cb-a878-febc317d8ac3",
   "metadata": {},
   "source": [
    "### 1.（30%）使用pandas库的相关方法，进行数据集读取、信息处理和探索性分析。"
   ]
  },
  {
   "cell_type": "markdown",
   "id": "88646108-837f-40c0-9559-26009cf6041e",
   "metadata": {},
   "source": [
    "#### Q1.（4%）读取数据集data.csv（将首列作为索引）至变量df，展示该数据集的前10行内容，并展示数据集有多少行和多少列。"
   ]
  },
  {
   "cell_type": "code",
   "execution_count": 9,
   "id": "d801a73e-d831-4299-96e9-d2b0bd6ae029",
   "metadata": {},
   "outputs": [
    {
     "name": "stdout",
     "output_type": "stream",
     "text": [
      "前十行内容------------------------------\n",
      "    CNTRYID  CNT  CNTSCHID   CYC  NatCen  Region  STRATUM  SUBNATIO  OECD  \\\n",
      "1         8  ALB    800002  07MS     800     800  ALB0109     80000     0   \n",
      "2         8  ALB    800003  07MS     800     800  ALB0109     80000     0   \n",
      "3         8  ALB    800004  07MS     800     800  ALB0211     80000     0   \n",
      "4         8  ALB    800005  07MS     800     800  ALB0107     80000     0   \n",
      "5         8  ALB    800006  07MS     800     800  ALB0105     80000     0   \n",
      "6         8  ALB    800007  07MS     800     800  ALB0109     80000     0   \n",
      "7         8  ALB    800008  07MS     800     800  ALB0210     80000     0   \n",
      "8         8  ALB    800009  07MS     800     800  ALB0203     80000     0   \n",
      "9         8  ALB    800010  07MS     800     800  ALB0210     80000     0   \n",
      "10        8  ALB    800011  07MS     800     800  ALB0206     80000     0   \n",
      "\n",
      "    ADMINMODE  ...  EDUSHORT  STAFFSHORT  STUBEHA  TEACHBEHA  SCMCEG  \\\n",
      "1           2  ...    1.2478     -1.4551  -1.1797    -2.0409 -1.0391   \n",
      "2           2  ...    0.6221     -1.4551   2.1196     2.5150 -1.0542   \n",
      "3           2  ...    0.4591     -1.4551  -0.6199    -0.4415  0.9042   \n",
      "4           2  ...    1.3065      1.2432  -0.2682    -0.0452 -1.5648   \n",
      "5           2  ...   -0.2376     -1.4551  -1.3196    -2.0409  0.9042   \n",
      "6           2  ...    0.8339      0.0055  -3.3785    -0.9173  0.1329   \n",
      "7           2  ...   -1.4212     -1.4551  -2.0719    -2.0409  0.9042   \n",
      "8           2  ...    0.1000     -0.0963   0.6482     1.3992  0.1329   \n",
      "9           2  ...   -1.4212     -1.4551  -2.0719    -2.0409  0.9042   \n",
      "10          2  ...   -1.4212     -0.5869  -0.9148    -0.6289 -2.5190   \n",
      "\n",
      "    W_SCHGRNRABWT  W_FSTUWT_SCH_SUM     SENWT             VER_DAT  BOOKID  \n",
      "1         7.98891         115.10603  24.81933    09MAY19:11:20:57     NaN  \n",
      "2         6.50492          26.01970  20.20900    09MAY19:11:20:57     NaN  \n",
      "3         6.64198          99.62974  20.63480    09MAY19:11:20:57     NaN  \n",
      "4         5.93762          66.50133  18.44654    09MAY19:11:20:57     NaN  \n",
      "5        14.61508         277.68645  45.40500    09MAY19:11:20:57     NaN  \n",
      "6         6.50492          19.51477  20.20900    09MAY19:11:20:57     NaN  \n",
      "7         1.00000          12.92284   3.10672    09MAY19:11:20:57     NaN  \n",
      "8         1.00000         145.00000   3.10672    09MAY19:11:20:57     NaN  \n",
      "9         1.00000           7.81752   3.10672    09MAY19:11:20:57     NaN  \n",
      "10        6.74868          74.23544  20.96627    09MAY19:11:20:57     NaN  \n",
      "\n",
      "[10 rows x 197 columns]\n",
      "行数/列数------------------------------\n",
      "21903 197\n"
     ]
    }
   ],
   "source": [
    "file_path = 'data.csv'\n",
    "df = pd.read_csv(file_path, index_col = 0)\n",
    "print('前十行内容' + '-'*30)\n",
    "print(df.head(10))\n",
    "num_row, num_col = df.shape\n",
    "print('行数/列数' + '-'*30)\n",
    "print(num_row, num_col)"
   ]
  },
  {
   "cell_type": "markdown",
   "id": "b63a5cb8-b84d-47b3-a1b4-880f9c7b90b6",
   "metadata": {},
   "source": [
    "#### Q2.（4%）数据集存在很多缺失值，输出各列缺失值的个数，并删除数据集的最后一列。基于更新后的数据，展示哪一列的缺失值最多，哪些列没有缺失值。"
   ]
  },
  {
   "cell_type": "code",
   "execution_count": 8,
   "id": "046e1ad7-d923-42e6-8381-ef92207f24cb",
   "metadata": {},
   "outputs": [
    {
     "name": "stdout",
     "output_type": "stream",
     "text": [
      "各列缺失值------------------------------\n",
      "CNTRYID                 0\n",
      "CNT                     0\n",
      "CNTSCHID                0\n",
      "CYC                     0\n",
      "NatCen                  0\n",
      "                    ...  \n",
      "W_SCHGRNRABWT           0\n",
      "W_FSTUWT_SCH_SUM        0\n",
      "SENWT                   0\n",
      "VER_DAT                 0\n",
      "BOOKID              21903\n",
      "Length: 197, dtype: int64\n"
     ]
    }
   ],
   "source": [
    "print('各列缺失值'+'-'*30)\n",
    "miss_value = df.isnull().sum()\n",
    "print(miss_value)\n",
    "last_col = df.columns[-1]"
   ]
  }
 ],
 "metadata": {
  "kernelspec": {
   "display_name": "base",
   "language": "python",
   "name": "python3"
  },
  "language_info": {
   "codemirror_mode": {
    "name": "ipython",
    "version": 3
   },
   "file_extension": ".py",
   "mimetype": "text/x-python",
   "name": "python",
   "nbconvert_exporter": "python",
   "pygments_lexer": "ipython3",
   "version": "3.12.7"
  }
 },
 "nbformat": 4,
 "nbformat_minor": 5
}
